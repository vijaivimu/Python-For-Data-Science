{
  "cells": [
    {
      "cell_type": "markdown",
      "id": "ddfa9ae6-69fe-444a-b994-8c4c5970a7ec",
      "metadata": {
        "id": "ddfa9ae6-69fe-444a-b994-8c4c5970a7ec"
      },
      "source": [
        "# Project - Airline AI Assistant\n",
        "\n",
        "We'll now bring together what we've learned to make an AI Customer Support assistant for an Airline"
      ]
    },
    {
      "cell_type": "code",
      "execution_count": null,
      "id": "8b50bbe2-c0b1-49c3-9a5c-1ba7efa2bcb4",
      "metadata": {
        "id": "8b50bbe2-c0b1-49c3-9a5c-1ba7efa2bcb4"
      },
      "outputs": [],
      "source": [
        "# imports\n",
        "\n",
        "import os\n",
        "import json\n",
        "from dotenv import load_dotenv\n",
        "from openai import OpenAI\n",
        "import gradio as gr"
      ]
    },
    {
      "cell_type": "code",
      "execution_count": null,
      "id": "747e8786-9da8-4342-b6c9-f5f69c2e22ae",
      "metadata": {
        "id": "747e8786-9da8-4342-b6c9-f5f69c2e22ae",
        "outputId": "7b7dfc9e-b12b-4f74-ef2c-53f4ea323089"
      },
      "outputs": [
        {
          "name": "stdout",
          "output_type": "stream",
          "text": [
            "OpenAI API Key exists and begins sk-proj-\n"
          ]
        }
      ],
      "source": [
        "# Initialization\n",
        "\n",
        "load_dotenv()\n",
        "\n",
        "openai_api_key = os.getenv('OPENAI_API_KEY')\n",
        "if openai_api_key:\n",
        "    print(f\"OpenAI API Key exists and begins {openai_api_key[:8]}\")\n",
        "else:\n",
        "    print(\"OpenAI API Key not set\")\n",
        "\n",
        "MODEL = \"gpt-4o-mini\"\n",
        "openai = OpenAI()\n",
        "\n",
        "# As an alternative, if you'd like to use Ollama instead of OpenAI\n",
        "# Check that Ollama is running for you locally (see week1/day2 exercise) then uncomment these next 2 lines\n",
        "# MODEL = \"llama3.2\"\n",
        "# openai = OpenAI(base_url='http://localhost:11434/v1', api_key='ollama')\n"
      ]
    },
    {
      "cell_type": "code",
      "execution_count": null,
      "id": "0a521d84-d07c-49ab-a0df-d6451499ed97",
      "metadata": {
        "id": "0a521d84-d07c-49ab-a0df-d6451499ed97"
      },
      "outputs": [],
      "source": [
        "system_message = \"You are a helpful assistant for an Airline called FlightAI. \"\n",
        "system_message += \"Give short, courteous answers, no more than 1 sentence. \"\n",
        "system_message += \"Always be accurate. If you don't know the answer, say so.\""
      ]
    },
    {
      "cell_type": "code",
      "execution_count": null,
      "id": "61a2a15d-b559-4844-b377-6bd5cb4949f6",
      "metadata": {
        "id": "61a2a15d-b559-4844-b377-6bd5cb4949f6",
        "outputId": "0a2243dd-750a-4eb0-ee8a-1d80ab4142ae"
      },
      "outputs": [
        {
          "name": "stdout",
          "output_type": "stream",
          "text": [
            "* Running on local URL:  http://127.0.0.1:7861\n",
            "\n",
            "To create a public link, set `share=True` in `launch()`.\n"
          ]
        },
        {
          "data": {
            "text/html": [
              "<div><iframe src=\"http://127.0.0.1:7861/\" width=\"100%\" height=\"500\" allow=\"autoplay; camera; microphone; clipboard-read; clipboard-write;\" frameborder=\"0\" allowfullscreen></iframe></div>"
            ],
            "text/plain": [
              "<IPython.core.display.HTML object>"
            ]
          },
          "metadata": {},
          "output_type": "display_data"
        },
        {
          "data": {
            "text/plain": []
          },
          "execution_count": 10,
          "metadata": {},
          "output_type": "execute_result"
        },
        {
          "name": "stdout",
          "output_type": "stream",
          "text": [
            "------------------------\n",
            "message: hi there\n",
            "------------------------\n",
            "History: []\n",
            "------------------------\n",
            "------------------------\n",
            "message: want to go somewhere\n",
            "------------------------\n",
            "History: [{'role': 'user', 'metadata': {'title': None}, 'content': 'hi there', 'options': None}, {'role': 'assistant', 'metadata': {'title': None}, 'content': 'Hello! How can I assist you today?', 'options': None}]\n",
            "------------------------\n",
            "------------------------\n",
            "message: salem\n",
            "------------------------\n",
            "History: [{'role': 'user', 'metadata': {'title': None}, 'content': 'hi there', 'options': None}, {'role': 'assistant', 'metadata': {'title': None}, 'content': 'Hello! How can I assist you today?', 'options': None}, {'role': 'user', 'metadata': {'title': None}, 'content': 'want to go somewhere', 'options': None}, {'role': 'assistant', 'metadata': {'title': None}, 'content': 'Sure! What destination are you considering?', 'options': None}]\n",
            "------------------------\n"
          ]
        }
      ],
      "source": [
        "# This function looks rather simpler than the one from my video, because we're taking advantage of the latest Gradio updates\n",
        "\n",
        "def chat(message, history):\n",
        "    messages = [{\"role\": \"system\", \"content\": system_message}] + history + [{\"role\": \"user\", \"content\": message}]\n",
        "    print('------------------------')\n",
        "    print('message:', message)\n",
        "    print('------------------------')\n",
        "    print('History:', history)\n",
        "    print('------------------------')\n",
        "\n",
        "    response = openai.chat.completions.create(model=MODEL, messages=messages)\n",
        "    return response.choices[0].message.content\n",
        "\n",
        "gr.ChatInterface(fn=chat, type=\"messages\").launch()"
      ]
    },
    {
      "cell_type": "markdown",
      "id": "36bedabf-a0a7-4985-ad8e-07ed6a55a3a4",
      "metadata": {
        "id": "36bedabf-a0a7-4985-ad8e-07ed6a55a3a4"
      },
      "source": [
        "## Tools\n",
        "\n",
        "Tools are an incredibly powerful feature provided by the frontier LLMs.\n",
        "\n",
        "With tools, you can write a function, and have the LLM call that function as part of its response.\n",
        "\n",
        "Sounds almost spooky.. we're giving it the power to run code on our machine?\n",
        "\n",
        "Well, kinda."
      ]
    },
    {
      "cell_type": "code",
      "execution_count": null,
      "id": "0696acb1-0b05-4dc2-80d5-771be04f1fb2",
      "metadata": {
        "id": "0696acb1-0b05-4dc2-80d5-771be04f1fb2"
      },
      "outputs": [],
      "source": [
        "# Let's start by making a useful function\n",
        "\n",
        "ticket_prices = {\"london\": \"$799\", \"paris\": \"$899\", \"tokyo\": \"$1400\", \"berlin\": \"$499\"}\n",
        "\n",
        "def get_ticket_price(destination_city):\n",
        "    print(f\"Tool get_ticket_price called for {destination_city}\")\n",
        "    city = destination_city.lower()\n",
        "    return ticket_prices.get(city, \"Unknown\")"
      ]
    },
    {
      "cell_type": "code",
      "execution_count": null,
      "id": "80ca4e09-6287-4d3f-997d-fa6afbcf6c85",
      "metadata": {
        "id": "80ca4e09-6287-4d3f-997d-fa6afbcf6c85",
        "outputId": "5f1245a3-a2f3-4573-d8ee-7a10e37468b7"
      },
      "outputs": [
        {
          "name": "stdout",
          "output_type": "stream",
          "text": [
            "Tool get_ticket_price called for Salem\n"
          ]
        },
        {
          "data": {
            "text/plain": [
              "'Unknown'"
            ]
          },
          "execution_count": 13,
          "metadata": {},
          "output_type": "execute_result"
        }
      ],
      "source": [
        "get_ticket_price(\"Salem\")"
      ]
    },
    {
      "cell_type": "code",
      "execution_count": null,
      "id": "4afceded-7178-4c05-8fa6-9f2085e6a344",
      "metadata": {
        "id": "4afceded-7178-4c05-8fa6-9f2085e6a344"
      },
      "outputs": [],
      "source": [
        "# There's a particular dictionary structure that's required to describe our function:\n",
        "\n",
        "price_function = {\n",
        "    \"name\": \"get_ticket_price\",\n",
        "    \"description\": \"Get the price of a return ticket to the destination city. Call this whenever you need to know the ticket price, for example when a customer asks 'How much is a ticket to this city'\",\n",
        "    \"parameters\": {\n",
        "        \"type\": \"object\",\n",
        "        \"properties\": {\n",
        "            \"destination_city\": {\n",
        "                \"type\": \"string\",\n",
        "                \"description\": \"The city that the customer wants to travel to\",\n",
        "            },\n",
        "        },\n",
        "        \"required\": [\"destination_city\"],\n",
        "        \"additionalProperties\": False\n",
        "    }\n",
        "}"
      ]
    },
    {
      "cell_type": "code",
      "execution_count": null,
      "id": "bdca8679-935f-4e7f-97e6-e71a4d4f228c",
      "metadata": {
        "id": "bdca8679-935f-4e7f-97e6-e71a4d4f228c"
      },
      "outputs": [],
      "source": [
        "# And this is included in a list of tools:\n",
        "\n",
        "tools = [{\"type\": \"function\", \"function\": price_function}]"
      ]
    },
    {
      "cell_type": "markdown",
      "id": "c3d3554f-b4e3-4ce7-af6f-68faa6dd2340",
      "metadata": {
        "id": "c3d3554f-b4e3-4ce7-af6f-68faa6dd2340"
      },
      "source": [
        "## Getting OpenAI to use our Tool\n",
        "\n",
        "There's some fiddly stuff to allow OpenAI \"to call our tool\"\n",
        "\n",
        "What we actually do is give the LLM the opportunity to inform us that it wants us to run the tool.\n",
        "\n",
        "Here's how the new chat function looks:"
      ]
    },
    {
      "cell_type": "code",
      "execution_count": null,
      "id": "ce9b0744-9c78-408d-b9df-9f6fd9ed78cf",
      "metadata": {
        "id": "ce9b0744-9c78-408d-b9df-9f6fd9ed78cf"
      },
      "outputs": [],
      "source": [
        "def chat(message, history):\n",
        "    messages = [{\"role\": \"system\", \"content\": system_message}] + history + [{\"role\": \"user\", \"content\": message}]\n",
        "    response = openai.chat.completions.create(model=MODEL, messages=messages, tools=tools)\n",
        "\n",
        "    if response.choices[0].finish_reason==\"tool_calls\":\n",
        "        message = response.choices[0].message\n",
        "        response, city = handle_tool_call(message)\n",
        "        print('tool_call:', city)\n",
        "        messages.append(message)\n",
        "        messages.append(response)\n",
        "        response = openai.chat.completions.create(model=MODEL, messages=messages)\n",
        "\n",
        "    return response.choices[0].message.content"
      ]
    },
    {
      "cell_type": "code",
      "execution_count": null,
      "id": "b0992986-ea09-4912-a076-8e5603ee631f",
      "metadata": {
        "id": "b0992986-ea09-4912-a076-8e5603ee631f"
      },
      "outputs": [],
      "source": [
        "# We have to write that function handle_tool_call:\n",
        "\n",
        "def handle_tool_call(message):\n",
        "    tool_call = message.tool_calls[0]\n",
        "    arguments = json.loads(tool_call.function.arguments)\n",
        "    city = arguments.get('destination_city')\n",
        "    price = get_ticket_price(city)\n",
        "    response = {\n",
        "        \"role\": \"tool\",\n",
        "        \"content\": json.dumps({\"destination_city\": city,\"price\": price}),\n",
        "        \"tool_call_id\": tool_call.id\n",
        "    }\n",
        "    return response, city"
      ]
    },
    {
      "cell_type": "code",
      "execution_count": null,
      "id": "f4be8a71-b19e-4c2f-80df-f59ff2661f14",
      "metadata": {
        "id": "f4be8a71-b19e-4c2f-80df-f59ff2661f14",
        "outputId": "515c814e-0fe4-4739-aedb-8f962b116d3b"
      },
      "outputs": [
        {
          "name": "stdout",
          "output_type": "stream",
          "text": [
            "* Running on local URL:  http://127.0.0.1:7862\n",
            "\n",
            "To create a public link, set `share=True` in `launch()`.\n"
          ]
        },
        {
          "data": {
            "text/html": [
              "<div><iframe src=\"http://127.0.0.1:7862/\" width=\"100%\" height=\"500\" allow=\"autoplay; camera; microphone; clipboard-read; clipboard-write;\" frameborder=\"0\" allowfullscreen></iframe></div>"
            ],
            "text/plain": [
              "<IPython.core.display.HTML object>"
            ]
          },
          "metadata": {},
          "output_type": "display_data"
        },
        {
          "data": {
            "text/plain": []
          },
          "execution_count": 20,
          "metadata": {},
          "output_type": "execute_result"
        },
        {
          "name": "stdout",
          "output_type": "stream",
          "text": [
            "Tool get_ticket_price called for Bangalore\n",
            "tool_call: Bangalore\n",
            "Tool get_ticket_price called for London\n",
            "tool_call: London\n",
            "Tool get_ticket_price called for Berlin\n",
            "tool_call: Berlin\n"
          ]
        }
      ],
      "source": [
        "gr.ChatInterface(fn=chat, type=\"messages\").launch()"
      ]
    },
    {
      "cell_type": "code",
      "source": [
        "import torch"
      ],
      "metadata": {
        "id": "SZph1mCtYgea"
      },
      "id": "SZph1mCtYgea",
      "execution_count": 1,
      "outputs": []
    },
    {
      "cell_type": "code",
      "source": [
        "torch.__version__"
      ],
      "metadata": {
        "id": "pl0gogGgY4vy",
        "outputId": "63741b99-4b07-4ca3-f71a-70b7c4f2ec76",
        "colab": {
          "base_uri": "https://localhost:8080/",
          "height": 35
        }
      },
      "id": "pl0gogGgY4vy",
      "execution_count": 2,
      "outputs": [
        {
          "output_type": "execute_result",
          "data": {
            "text/plain": [
              "'2.5.1+cu121'"
            ],
            "application/vnd.google.colaboratory.intrinsic+json": {
              "type": "string"
            }
          },
          "metadata": {},
          "execution_count": 2
        }
      ]
    },
    {
      "cell_type": "code",
      "source": [],
      "metadata": {
        "id": "_DQz4ziXYirl"
      },
      "id": "_DQz4ziXYirl",
      "execution_count": null,
      "outputs": []
    }
  ],
  "metadata": {
    "kernelspec": {
      "display_name": "Python 3",
      "name": "python3"
    },
    "language_info": {
      "codemirror_mode": {
        "name": "ipython",
        "version": 3
      },
      "file_extension": ".py",
      "mimetype": "text/x-python",
      "name": "python",
      "nbconvert_exporter": "python",
      "pygments_lexer": "ipython3",
      "version": "3.11.6"
    },
    "colab": {
      "provenance": [],
      "gpuType": "T4"
    },
    "accelerator": "GPU"
  },
  "nbformat": 4,
  "nbformat_minor": 5
}