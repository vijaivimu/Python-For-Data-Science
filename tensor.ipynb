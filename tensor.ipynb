{
  "nbformat": 4,
  "nbformat_minor": 0,
  "metadata": {
    "colab": {
      "provenance": [],
      "gpuType": "T4",
      "authorship_tag": "ABX9TyPffAc1PlmDvi6f+1xvUbmb",
      "include_colab_link": true
    },
    "kernelspec": {
      "name": "python3",
      "display_name": "Python 3"
    },
    "language_info": {
      "name": "python"
    },
    "accelerator": "GPU"
  },
  "cells": [
    {
      "cell_type": "markdown",
      "metadata": {
        "id": "view-in-github",
        "colab_type": "text"
      },
      "source": [
        "<a href=\"https://colab.research.google.com/github/vijaivimu/Python-For-Data-Science/blob/main/tensor.ipynb\" target=\"_parent\"><img src=\"https://colab.research.google.com/assets/colab-badge.svg\" alt=\"Open In Colab\"/></a>"
      ]
    },
    {
      "cell_type": "code",
      "execution_count": 5,
      "metadata": {
        "id": "FbxDbePmyzm7"
      },
      "outputs": [],
      "source": [
        "import torch"
      ]
    },
    {
      "cell_type": "code",
      "source": [
        "scalar = torch.tensor(20)"
      ],
      "metadata": {
        "id": "WsoktG7rzSEO"
      },
      "execution_count": 6,
      "outputs": []
    },
    {
      "cell_type": "code",
      "source": [
        "scalar.ndim"
      ],
      "metadata": {
        "colab": {
          "base_uri": "https://localhost:8080/"
        },
        "id": "yK2BGM_70R9d",
        "outputId": "ef856e74-35c1-4707-d819-c366cae44c6b"
      },
      "execution_count": 7,
      "outputs": [
        {
          "output_type": "execute_result",
          "data": {
            "text/plain": [
              "0"
            ]
          },
          "metadata": {},
          "execution_count": 7
        }
      ]
    },
    {
      "cell_type": "code",
      "source": [
        "scalar.shape"
      ],
      "metadata": {
        "colab": {
          "base_uri": "https://localhost:8080/"
        },
        "id": "8q47LpFu0TTi",
        "outputId": "ad7bfdd5-90e8-476a-8d62-edcef4942032"
      },
      "execution_count": 8,
      "outputs": [
        {
          "output_type": "execute_result",
          "data": {
            "text/plain": [
              "torch.Size([])"
            ]
          },
          "metadata": {},
          "execution_count": 8
        }
      ]
    },
    {
      "cell_type": "code",
      "source": [
        "scalar.item()"
      ],
      "metadata": {
        "colab": {
          "base_uri": "https://localhost:8080/"
        },
        "id": "6cCsTpjU0dbC",
        "outputId": "fe6b80b1-99ca-4f61-c249-a65e02ddbe52"
      },
      "execution_count": 9,
      "outputs": [
        {
          "output_type": "execute_result",
          "data": {
            "text/plain": [
              "20"
            ]
          },
          "metadata": {},
          "execution_count": 9
        }
      ]
    },
    {
      "cell_type": "code",
      "source": [
        "list = [1,2,3,4,5]"
      ],
      "metadata": {
        "id": "z4iMs8zq0hRv"
      },
      "execution_count": 10,
      "outputs": []
    },
    {
      "cell_type": "code",
      "source": [
        "vector = torch.tensor(list)"
      ],
      "metadata": {
        "id": "XGrucVTU0n7u"
      },
      "execution_count": 11,
      "outputs": []
    },
    {
      "cell_type": "code",
      "source": [
        "vector"
      ],
      "metadata": {
        "colab": {
          "base_uri": "https://localhost:8080/"
        },
        "id": "VDaJ0zgk0tD1",
        "outputId": "07711fb3-e4ec-4ca3-f28e-95ff7dac30b8"
      },
      "execution_count": 12,
      "outputs": [
        {
          "output_type": "execute_result",
          "data": {
            "text/plain": [
              "tensor([1, 2, 3, 4, 5])"
            ]
          },
          "metadata": {},
          "execution_count": 12
        }
      ]
    },
    {
      "cell_type": "code",
      "source": [
        "vector.shape"
      ],
      "metadata": {
        "colab": {
          "base_uri": "https://localhost:8080/"
        },
        "id": "q1thB6x30uUr",
        "outputId": "08752738-b4ba-44e0-fc7f-65c1c5a2de18"
      },
      "execution_count": 13,
      "outputs": [
        {
          "output_type": "execute_result",
          "data": {
            "text/plain": [
              "torch.Size([5])"
            ]
          },
          "metadata": {},
          "execution_count": 13
        }
      ]
    },
    {
      "cell_type": "code",
      "source": [
        "vector.ndim"
      ],
      "metadata": {
        "colab": {
          "base_uri": "https://localhost:8080/"
        },
        "id": "wT9aMJjw0wTu",
        "outputId": "ed4e281d-7c82-4a8f-88c1-de6d738484ec"
      },
      "execution_count": 14,
      "outputs": [
        {
          "output_type": "execute_result",
          "data": {
            "text/plain": [
              "1"
            ]
          },
          "metadata": {},
          "execution_count": 14
        }
      ]
    },
    {
      "cell_type": "code",
      "source": [
        "vector[0].item()"
      ],
      "metadata": {
        "colab": {
          "base_uri": "https://localhost:8080/"
        },
        "id": "VCl6mSo70z5X",
        "outputId": "6620c54d-abfa-4899-da55-af047db04119"
      },
      "execution_count": 15,
      "outputs": [
        {
          "output_type": "execute_result",
          "data": {
            "text/plain": [
              "1"
            ]
          },
          "metadata": {},
          "execution_count": 15
        }
      ]
    },
    {
      "cell_type": "code",
      "source": [
        "vector + 10"
      ],
      "metadata": {
        "colab": {
          "base_uri": "https://localhost:8080/"
        },
        "id": "KUB1sBU202hv",
        "outputId": "960f2fee-640e-4446-b10b-015d2814633d"
      },
      "execution_count": 16,
      "outputs": [
        {
          "output_type": "execute_result",
          "data": {
            "text/plain": [
              "tensor([11, 12, 13, 14, 15])"
            ]
          },
          "metadata": {},
          "execution_count": 16
        }
      ]
    },
    {
      "cell_type": "code",
      "source": [
        "matrix = torch.tensor([[1,2,3],[4,5,6]])"
      ],
      "metadata": {
        "id": "2959yGgK37dp"
      },
      "execution_count": 17,
      "outputs": []
    },
    {
      "cell_type": "code",
      "source": [
        "matrix.shape"
      ],
      "metadata": {
        "colab": {
          "base_uri": "https://localhost:8080/"
        },
        "id": "sSmj5i6D4PwP",
        "outputId": "2d70e078-3466-4d3e-b8aa-7f9aa6c80603"
      },
      "execution_count": 18,
      "outputs": [
        {
          "output_type": "execute_result",
          "data": {
            "text/plain": [
              "torch.Size([2, 3])"
            ]
          },
          "metadata": {},
          "execution_count": 18
        }
      ]
    },
    {
      "cell_type": "code",
      "source": [
        "matrix.ndim"
      ],
      "metadata": {
        "colab": {
          "base_uri": "https://localhost:8080/"
        },
        "id": "_nuT0BXu4SNA",
        "outputId": "047e3b35-58b6-4604-ac9b-d24be27f63d8"
      },
      "execution_count": 19,
      "outputs": [
        {
          "output_type": "execute_result",
          "data": {
            "text/plain": [
              "2"
            ]
          },
          "metadata": {},
          "execution_count": 19
        }
      ]
    },
    {
      "cell_type": "code",
      "source": [
        "tensor3d = torch.tensor([[[1,2,3],[4,5,6]],[[17,2,3],[18,5,6]]                                        ])"
      ],
      "metadata": {
        "id": "9QaqdB5B4VkX"
      },
      "execution_count": 20,
      "outputs": []
    },
    {
      "cell_type": "code",
      "source": [
        "tensor3d.shape"
      ],
      "metadata": {
        "colab": {
          "base_uri": "https://localhost:8080/"
        },
        "id": "HjR-E9nR4xUs",
        "outputId": "a0c78c11-c3c3-4b31-ebe1-ec44a927934d"
      },
      "execution_count": 21,
      "outputs": [
        {
          "output_type": "execute_result",
          "data": {
            "text/plain": [
              "torch.Size([2, 2, 3])"
            ]
          },
          "metadata": {},
          "execution_count": 21
        }
      ]
    },
    {
      "cell_type": "code",
      "source": [
        "k= torch.rand((3,3,2))"
      ],
      "metadata": {
        "id": "b2dfIi7w4znb"
      },
      "execution_count": 22,
      "outputs": []
    },
    {
      "cell_type": "code",
      "source": [
        "k.shape"
      ],
      "metadata": {
        "colab": {
          "base_uri": "https://localhost:8080/"
        },
        "id": "xql9y5Df5j-a",
        "outputId": "c86a814a-b94b-4561-9568-01d34b5e0758"
      },
      "execution_count": 23,
      "outputs": [
        {
          "output_type": "execute_result",
          "data": {
            "text/plain": [
              "torch.Size([3, 3, 2])"
            ]
          },
          "metadata": {},
          "execution_count": 23
        }
      ]
    },
    {
      "cell_type": "code",
      "source": [
        "k.ndim"
      ],
      "metadata": {
        "colab": {
          "base_uri": "https://localhost:8080/"
        },
        "id": "zQyble2T6WKR",
        "outputId": "ab352566-e243-4c05-d398-ca9f28a191ca"
      },
      "execution_count": 24,
      "outputs": [
        {
          "output_type": "execute_result",
          "data": {
            "text/plain": [
              "3"
            ]
          },
          "metadata": {},
          "execution_count": 24
        }
      ]
    },
    {
      "cell_type": "code",
      "source": [
        "k.size()"
      ],
      "metadata": {
        "colab": {
          "base_uri": "https://localhost:8080/"
        },
        "id": "b46lcFZa6ZcM",
        "outputId": "8fdd59f8-cbf7-45bb-d1df-c8e634401806"
      },
      "execution_count": 25,
      "outputs": [
        {
          "output_type": "execute_result",
          "data": {
            "text/plain": [
              "torch.Size([3, 3, 2])"
            ]
          },
          "metadata": {},
          "execution_count": 25
        }
      ]
    },
    {
      "cell_type": "code",
      "source": [
        "tensordtyp = torch.tensor([1.0,2.0,3.0],dtype=torch.int16)"
      ],
      "metadata": {
        "id": "0OAnWdU66jST"
      },
      "execution_count": 26,
      "outputs": []
    },
    {
      "cell_type": "code",
      "source": [
        "tensordtyp"
      ],
      "metadata": {
        "colab": {
          "base_uri": "https://localhost:8080/"
        },
        "id": "cC-Q2TT5797v",
        "outputId": "fd4c7fad-9a87-4c4f-957a-3d8f3cb1a560"
      },
      "execution_count": 27,
      "outputs": [
        {
          "output_type": "execute_result",
          "data": {
            "text/plain": [
              "tensor([1, 2, 3], dtype=torch.int16)"
            ]
          },
          "metadata": {},
          "execution_count": 27
        }
      ]
    },
    {
      "cell_type": "code",
      "source": [
        "tensordtyp = torch.tensor([1.0,2.0,3.0],requires_grad=True)"
      ],
      "metadata": {
        "id": "HSUXrJ_z8Hnj"
      },
      "execution_count": 28,
      "outputs": []
    },
    {
      "cell_type": "code",
      "source": [
        "tensordtyp = torch.tensor([1.0,2.0,3.0],requires_grad=True,device='cuda:0')"
      ],
      "metadata": {
        "id": "Grx6HtZ0-qIo"
      },
      "execution_count": 29,
      "outputs": []
    },
    {
      "cell_type": "code",
      "source": [
        "tensor1 = torch.rand((2,2))"
      ],
      "metadata": {
        "id": "_Qkz0uGC_MtV"
      },
      "execution_count": 30,
      "outputs": []
    },
    {
      "cell_type": "code",
      "source": [
        "tensor1 = tensor1.cuda()"
      ],
      "metadata": {
        "id": "HMKUARDP6ZL6"
      },
      "execution_count": 31,
      "outputs": []
    },
    {
      "cell_type": "code",
      "source": [
        "tensor2 = torch.rand((2,2))\n"
      ],
      "metadata": {
        "id": "uSz4s8Cz66cu"
      },
      "execution_count": 32,
      "outputs": []
    },
    {
      "cell_type": "code",
      "source": [
        "tensor1 + tensor2"
      ],
      "metadata": {
        "colab": {
          "base_uri": "https://localhost:8080/",
          "height": 144
        },
        "id": "YrbcU32D7CNf",
        "outputId": "ef24d33f-0f97-49e5-adc9-acb689e8ee4e"
      },
      "execution_count": 33,
      "outputs": [
        {
          "output_type": "error",
          "ename": "RuntimeError",
          "evalue": "Expected all tensors to be on the same device, but found at least two devices, cuda:0 and cpu!",
          "traceback": [
            "\u001b[0;31m---------------------------------------------------------------------------\u001b[0m",
            "\u001b[0;31mRuntimeError\u001b[0m                              Traceback (most recent call last)",
            "\u001b[0;32m<ipython-input-33-1dccf545ca40>\u001b[0m in \u001b[0;36m<cell line: 0>\u001b[0;34m()\u001b[0m\n\u001b[0;32m----> 1\u001b[0;31m \u001b[0mtensor1\u001b[0m \u001b[0;34m+\u001b[0m \u001b[0mtensor2\u001b[0m\u001b[0;34m\u001b[0m\u001b[0;34m\u001b[0m\u001b[0m\n\u001b[0m",
            "\u001b[0;31mRuntimeError\u001b[0m: Expected all tensors to be on the same device, but found at least two devices, cuda:0 and cpu!"
          ]
        }
      ]
    },
    {
      "cell_type": "code",
      "source": [
        "tensor2 = tensor2.cuda()"
      ],
      "metadata": {
        "id": "Fug-PvSG7F60"
      },
      "execution_count": 34,
      "outputs": []
    },
    {
      "cell_type": "code",
      "source": [
        "tensor1 + tensor2"
      ],
      "metadata": {
        "colab": {
          "base_uri": "https://localhost:8080/"
        },
        "id": "WgqLw8af7PPq",
        "outputId": "c2079975-dcf0-4c12-d797-d2350511d8d4"
      },
      "execution_count": 35,
      "outputs": [
        {
          "output_type": "execute_result",
          "data": {
            "text/plain": [
              "tensor([[0.7763, 1.2231],\n",
              "        [0.6391, 1.3296]], device='cuda:0')"
            ]
          },
          "metadata": {},
          "execution_count": 35
        }
      ]
    },
    {
      "cell_type": "code",
      "source": [
        "tensor1.cpu() + tensor2.cpu()"
      ],
      "metadata": {
        "colab": {
          "base_uri": "https://localhost:8080/"
        },
        "id": "7pt8iJlQ7RyW",
        "outputId": "49044676-08df-425d-b8fe-968f1a9d37d5"
      },
      "execution_count": 36,
      "outputs": [
        {
          "output_type": "execute_result",
          "data": {
            "text/plain": [
              "tensor([[0.7763, 1.2231],\n",
              "        [0.6391, 1.3296]])"
            ]
          },
          "metadata": {},
          "execution_count": 36
        }
      ]
    },
    {
      "cell_type": "code",
      "source": [
        "torch.matmul(tensor2, tensor1)"
      ],
      "metadata": {
        "id": "t51NQn077hJz"
      },
      "execution_count": null,
      "outputs": []
    },
    {
      "cell_type": "code",
      "source": [
        "tensor5 = torch.rand((2,2))"
      ],
      "metadata": {
        "id": "KOUA54oa-E42"
      },
      "execution_count": null,
      "outputs": []
    },
    {
      "cell_type": "code",
      "source": [
        "tensor5 = tensor5.to(torch.int64)"
      ],
      "metadata": {
        "id": "0sYHfIIX-QG9"
      },
      "execution_count": null,
      "outputs": []
    },
    {
      "cell_type": "code",
      "source": [
        "torch.matmul(tensor2, tensor5.cuda())"
      ],
      "metadata": {
        "id": "azWkbkZN-Wn9"
      },
      "execution_count": null,
      "outputs": []
    },
    {
      "cell_type": "code",
      "source": [
        "print(tensor5.dtype)"
      ],
      "metadata": {
        "id": "yIiWhVu2-1U9"
      },
      "execution_count": null,
      "outputs": []
    },
    {
      "cell_type": "code",
      "source": [
        "import matplotlib.pyplot as plt\n",
        "from sklearn.model_selection import train_test_split"
      ],
      "metadata": {
        "id": "EHwrq0ua_GUL"
      },
      "execution_count": 37,
      "outputs": []
    },
    {
      "cell_type": "code",
      "source": [
        "x= torch.linspace(1,10,100).reshape(-1,1)"
      ],
      "metadata": {
        "id": "cIyMdS-6Cdvp"
      },
      "execution_count": 38,
      "outputs": []
    },
    {
      "cell_type": "code",
      "source": [
        "y= 2* x + 1 + torch.rand(x.size())"
      ],
      "metadata": {
        "id": "2vSkOe1KCrlK"
      },
      "execution_count": 40,
      "outputs": []
    },
    {
      "cell_type": "code",
      "source": [
        "x_train, x_test, y_train, y_test = train_test_split(x.numpy(),y.numpy(),test_size=0.2,random_state=25)"
      ],
      "metadata": {
        "id": "Nr5xxPNODIMz"
      },
      "execution_count": 42,
      "outputs": []
    },
    {
      "cell_type": "code",
      "source": [
        "x_train = torch.tensor(x_train, dtype=torch.float32)\n",
        "x_test = torch.tensor(x_test, dtype=torch.float32)\n",
        "y_train = torch.tensor(y_train, dtype=torch.float32)\n",
        "y_test = torch.tensor(y_test, dtype=torch.float32)"
      ],
      "metadata": {
        "colab": {
          "base_uri": "https://localhost:8080/"
        },
        "id": "gUXSWQzSD5ip",
        "outputId": "f54107f4-6ee7-4f42-c15f-c2b9e9cdb992"
      },
      "execution_count": 44,
      "outputs": [
        {
          "output_type": "stream",
          "name": "stderr",
          "text": [
            "<ipython-input-44-c90240005b54>:1: UserWarning: To copy construct from a tensor, it is recommended to use sourceTensor.clone().detach() or sourceTensor.clone().detach().requires_grad_(True), rather than torch.tensor(sourceTensor).\n",
            "  x_train = torch.tensor(x_train, dtype=torch.float32)\n",
            "<ipython-input-44-c90240005b54>:2: UserWarning: To copy construct from a tensor, it is recommended to use sourceTensor.clone().detach() or sourceTensor.clone().detach().requires_grad_(True), rather than torch.tensor(sourceTensor).\n",
            "  x_test = torch.tensor(x_test, dtype=torch.float32)\n",
            "<ipython-input-44-c90240005b54>:3: UserWarning: To copy construct from a tensor, it is recommended to use sourceTensor.clone().detach() or sourceTensor.clone().detach().requires_grad_(True), rather than torch.tensor(sourceTensor).\n",
            "  y_train = torch.tensor(y_train, dtype=torch.float32)\n",
            "<ipython-input-44-c90240005b54>:4: UserWarning: To copy construct from a tensor, it is recommended to use sourceTensor.clone().detach() or sourceTensor.clone().detach().requires_grad_(True), rather than torch.tensor(sourceTensor).\n",
            "  y_test = torch.tensor(y_test, dtype=torch.float32)\n"
          ]
        }
      ]
    },
    {
      "cell_type": "code",
      "source": [
        "plt.scatter(x_train.numpy(), y_train.numpy(), label='Training Data')\n",
        "plt.scatter(x_test.numpy(), y_test.numpy(), label='Test Data', color='red')\n",
        "plt.title('Toy Dataset')\n",
        "plt.xlabel('X')\n",
        "plt.ylabel('y')\n",
        "plt.legend()\n",
        "plt.show()"
      ],
      "metadata": {
        "colab": {
          "base_uri": "https://localhost:8080/",
          "height": 472
        },
        "id": "Pg6YTa2gD68Q",
        "outputId": "ccb32ce1-9ec2-4cfd-a216-93fe34d1a0cd"
      },
      "execution_count": 45,
      "outputs": [
        {
          "output_type": "display_data",
          "data": {
            "text/plain": [
              "<Figure size 640x480 with 1 Axes>"
            ],
            "image/png": "[encoded data removed]"
          },
          "metadata": {}
        }
      ]
    },
    {
      "cell_type": "code",
      "source": [
        "import torch.nn as nn\n",
        "class LRModel(nn.Module):  # A robot that knows how to learn a straight-line rule\n",
        "    def __init__(self, input_dim, output_dim):\n",
        "        super(LRModel, self).__init__()\n",
        "        self.linear = nn.Linear(input_dim, output_dim)  # Creates the \"straight-line rule\"\n",
        "\n",
        "    def forward(self, x):  # What the robot does when we give it some X\n",
        "        out = self.linear(x)\n",
        "        return out\n",
        "\n",
        "input_dim = 1  # X has one column\n",
        "output_dim = 1  # Y has one column\n",
        "lr_model = LRModel(input_dim, output_dim)  # Our robot model"
      ],
      "metadata": {
        "id": "u1LKY6FOuxpk"
      },
      "execution_count": 46,
      "outputs": []
    },
    {
      "cell_type": "code",
      "source": [
        "# Make predictions with the untrained model\n",
        "with torch.no_grad():\n",
        "    untrained_predictions = lr_model(x_test)"
      ],
      "metadata": {
        "id": "SI1kGDwrMvzV"
      },
      "execution_count": 48,
      "outputs": []
    },
    {
      "cell_type": "code",
      "source": [
        "untrained_predictions"
      ],
      "metadata": {
        "colab": {
          "base_uri": "https://localhost:8080/"
        },
        "id": "7wUMvwdQNOrb",
        "outputId": "aca4c65a-343e-4121-814d-72fc8fa93439"
      },
      "execution_count": 49,
      "outputs": [
        {
          "output_type": "execute_result",
          "data": {
            "text/plain": [
              "tensor([[ 0.4520],\n",
              "        [ 0.2557],\n",
              "        [ 0.3211],\n",
              "        [ 0.8445],\n",
              "        [ 0.9917],\n",
              "        [-0.1205],\n",
              "        [ 0.7136],\n",
              "        [ 1.2370],\n",
              "        [ 1.2043],\n",
              "        [ 1.3842],\n",
              "        [-0.2186],\n",
              "        [ 0.8281],\n",
              "        [ 1.1062],\n",
              "        [ 0.9590],\n",
              "        [ 0.8608],\n",
              "        [ 1.2697],\n",
              "        [ 1.3351],\n",
              "        [ 0.8118],\n",
              "        [ 0.7463],\n",
              "        [ 0.5337]])"
            ]
          },
          "metadata": {},
          "execution_count": 49
        }
      ]
    },
    {
      "cell_type": "code",
      "source": [
        "plt.scatter(x_train.numpy(), y_train.numpy(), label='Training Data')\n",
        "plt.scatter(x_test.numpy(), y_test.numpy(), label='Test Data', color='red')\n",
        "plt.scatter(x_test.numpy(), untrained_predictions, label='Test Data', color='green')\n",
        "plt.title('Toy Dataset')\n",
        "plt.xlabel('X')\n",
        "plt.ylabel('y')\n",
        "plt.legend()\n",
        "plt.show()"
      ],
      "metadata": {
        "colab": {
          "base_uri": "https://localhost:8080/",
          "height": 472
        },
        "id": "KaCBAb4eNrIN",
        "outputId": "1ef32bb4-f2fc-4ba7-b59c-ce693622a907"
      },
      "execution_count": 50,
      "outputs": [
        {
          "output_type": "display_data",
          "data": {
            "text/plain": [
              "<Figure size 640x480 with 1 Axes>"
            ],
            "image/png": "[encoded data removed]"
          },
          "metadata": {}
        }
      ]
    },
    {
      "cell_type": "code",
      "source": [],
      "metadata": {
        "id": "VK_4PO_eN9WA"
      },
      "execution_count": null,
      "outputs": []
    }
  ]
}