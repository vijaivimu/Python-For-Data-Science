{
  "nbformat": 4,
  "nbformat_minor": 0,
  "metadata": {
    "colab": {
      "provenance": [],
      "gpuType": "T4",
      "authorship_tag": "ABX9TyMqyLnwheJaMeturRA+GiDb",
      "include_colab_link": true
    },
    "kernelspec": {
      "name": "python3",
      "display_name": "Python 3"
    },
    "language_info": {
      "name": "python"
    },
    "accelerator": "GPU"
  },
  "cells": [
    {
      "cell_type": "markdown",
      "metadata": {
        "id": "view-in-github",
        "colab_type": "text"
      },
      "source": [
        "<a href=\"https://colab.research.google.com/github/vijaivimu/Python-For-Data-Science/blob/main/tensor.ipynb\" target=\"_parent\"><img src=\"https://colab.research.google.com/assets/colab-badge.svg\" alt=\"Open In Colab\"/></a>"
      ]
    },
    {
      "cell_type": "code",
      "execution_count": 1,
      "metadata": {
        "id": "FbxDbePmyzm7"
      },
      "outputs": [],
      "source": [
        "import torch"
      ]
    },
    {
      "cell_type": "code",
      "source": [
        "scalar = torch.tensor(20)"
      ],
      "metadata": {
        "id": "WsoktG7rzSEO"
      },
      "execution_count": 2,
      "outputs": []
    },
    {
      "cell_type": "code",
      "source": [
        "scalar.ndim"
      ],
      "metadata": {
        "colab": {
          "base_uri": "https://localhost:8080/"
        },
        "id": "yK2BGM_70R9d",
        "outputId": "7fa83935-4db1-4928-b3d5-45353971c2b2"
      },
      "execution_count": 3,
      "outputs": [
        {
          "output_type": "execute_result",
          "data": {
            "text/plain": [
              "0"
            ]
          },
          "metadata": {},
          "execution_count": 3
        }
      ]
    },
    {
      "cell_type": "code",
      "source": [
        "scalar.shape"
      ],
      "metadata": {
        "colab": {
          "base_uri": "https://localhost:8080/"
        },
        "id": "8q47LpFu0TTi",
        "outputId": "c7c63f43-62f0-434e-cbb4-d043bab92298"
      },
      "execution_count": 4,
      "outputs": [
        {
          "output_type": "execute_result",
          "data": {
            "text/plain": [
              "torch.Size([])"
            ]
          },
          "metadata": {},
          "execution_count": 4
        }
      ]
    },
    {
      "cell_type": "code",
      "source": [
        "scalar.item()"
      ],
      "metadata": {
        "colab": {
          "base_uri": "https://localhost:8080/"
        },
        "id": "6cCsTpjU0dbC",
        "outputId": "dbd56ebb-ddaa-49da-92bf-44009d119bbf"
      },
      "execution_count": 5,
      "outputs": [
        {
          "output_type": "execute_result",
          "data": {
            "text/plain": [
              "20"
            ]
          },
          "metadata": {},
          "execution_count": 5
        }
      ]
    },
    {
      "cell_type": "code",
      "source": [
        "list = [1,2,3,4,5]"
      ],
      "metadata": {
        "id": "z4iMs8zq0hRv"
      },
      "execution_count": 6,
      "outputs": []
    },
    {
      "cell_type": "code",
      "source": [
        "vector = torch.tensor(list)"
      ],
      "metadata": {
        "id": "XGrucVTU0n7u"
      },
      "execution_count": 7,
      "outputs": []
    },
    {
      "cell_type": "code",
      "source": [
        "vector"
      ],
      "metadata": {
        "colab": {
          "base_uri": "https://localhost:8080/"
        },
        "id": "VDaJ0zgk0tD1",
        "outputId": "8e6dcd58-335b-4277-aec5-b0597bc28857"
      },
      "execution_count": 8,
      "outputs": [
        {
          "output_type": "execute_result",
          "data": {
            "text/plain": [
              "tensor([1, 2, 3, 4, 5])"
            ]
          },
          "metadata": {},
          "execution_count": 8
        }
      ]
    },
    {
      "cell_type": "code",
      "source": [
        "vector.shape"
      ],
      "metadata": {
        "colab": {
          "base_uri": "https://localhost:8080/"
        },
        "id": "q1thB6x30uUr",
        "outputId": "624adfc5-12c8-418c-cab1-d260dab269a9"
      },
      "execution_count": 9,
      "outputs": [
        {
          "output_type": "execute_result",
          "data": {
            "text/plain": [
              "torch.Size([5])"
            ]
          },
          "metadata": {},
          "execution_count": 9
        }
      ]
    },
    {
      "cell_type": "code",
      "source": [
        "vector.ndim"
      ],
      "metadata": {
        "colab": {
          "base_uri": "https://localhost:8080/"
        },
        "id": "wT9aMJjw0wTu",
        "outputId": "8310c5c1-e88d-4232-d678-604a63435d1e"
      },
      "execution_count": 10,
      "outputs": [
        {
          "output_type": "execute_result",
          "data": {
            "text/plain": [
              "1"
            ]
          },
          "metadata": {},
          "execution_count": 10
        }
      ]
    },
    {
      "cell_type": "code",
      "source": [
        "vector[0].item()"
      ],
      "metadata": {
        "colab": {
          "base_uri": "https://localhost:8080/"
        },
        "id": "VCl6mSo70z5X",
        "outputId": "937c7441-e6f4-4e4b-cee6-d3a20dbac8bc"
      },
      "execution_count": 11,
      "outputs": [
        {
          "output_type": "execute_result",
          "data": {
            "text/plain": [
              "1"
            ]
          },
          "metadata": {},
          "execution_count": 11
        }
      ]
    },
    {
      "cell_type": "code",
      "source": [
        "vector + 10"
      ],
      "metadata": {
        "colab": {
          "base_uri": "https://localhost:8080/"
        },
        "id": "KUB1sBU202hv",
        "outputId": "d2680269-a6e1-42cb-bb02-6be728e1573c"
      },
      "execution_count": 12,
      "outputs": [
        {
          "output_type": "execute_result",
          "data": {
            "text/plain": [
              "tensor([11, 12, 13, 14, 15])"
            ]
          },
          "metadata": {},
          "execution_count": 12
        }
      ]
    },
    {
      "cell_type": "code",
      "source": [
        "matrix = torch.tensor([[1,2,3],[4,5,6]])"
      ],
      "metadata": {
        "id": "2959yGgK37dp"
      },
      "execution_count": 13,
      "outputs": []
    },
    {
      "cell_type": "code",
      "source": [
        "matrix.shape"
      ],
      "metadata": {
        "colab": {
          "base_uri": "https://localhost:8080/"
        },
        "id": "sSmj5i6D4PwP",
        "outputId": "26365e2f-fedb-4f0c-89a0-68f2b1237767"
      },
      "execution_count": 14,
      "outputs": [
        {
          "output_type": "execute_result",
          "data": {
            "text/plain": [
              "torch.Size([2, 3])"
            ]
          },
          "metadata": {},
          "execution_count": 14
        }
      ]
    },
    {
      "cell_type": "code",
      "source": [
        "matrix.ndim"
      ],
      "metadata": {
        "colab": {
          "base_uri": "https://localhost:8080/"
        },
        "id": "_nuT0BXu4SNA",
        "outputId": "d2dc095b-9aba-4d8b-d55a-341a827b29f2"
      },
      "execution_count": 15,
      "outputs": [
        {
          "output_type": "execute_result",
          "data": {
            "text/plain": [
              "2"
            ]
          },
          "metadata": {},
          "execution_count": 15
        }
      ]
    },
    {
      "cell_type": "code",
      "source": [
        "tensor3d = torch.tensor([[[1,2,3],[4,5,6]],[[17,2,3],[18,5,6]]                                        ])"
      ],
      "metadata": {
        "id": "9QaqdB5B4VkX"
      },
      "execution_count": 16,
      "outputs": []
    },
    {
      "cell_type": "code",
      "source": [
        "tensor3d.shape"
      ],
      "metadata": {
        "colab": {
          "base_uri": "https://localhost:8080/"
        },
        "id": "HjR-E9nR4xUs",
        "outputId": "dc1aa563-57ab-46a7-b805-ed980c9234e6"
      },
      "execution_count": 17,
      "outputs": [
        {
          "output_type": "execute_result",
          "data": {
            "text/plain": [
              "torch.Size([2, 2, 3])"
            ]
          },
          "metadata": {},
          "execution_count": 17
        }
      ]
    },
    {
      "cell_type": "code",
      "source": [
        "k= torch.rand((3,3,2))"
      ],
      "metadata": {
        "id": "b2dfIi7w4znb"
      },
      "execution_count": 18,
      "outputs": []
    },
    {
      "cell_type": "code",
      "source": [
        "k.shape"
      ],
      "metadata": {
        "colab": {
          "base_uri": "https://localhost:8080/"
        },
        "id": "xql9y5Df5j-a",
        "outputId": "a3aac854-6b0e-4f55-b354-bd06cf0991f2"
      },
      "execution_count": 19,
      "outputs": [
        {
          "output_type": "execute_result",
          "data": {
            "text/plain": [
              "torch.Size([3, 3, 2])"
            ]
          },
          "metadata": {},
          "execution_count": 19
        }
      ]
    },
    {
      "cell_type": "code",
      "source": [
        "k.ndim"
      ],
      "metadata": {
        "colab": {
          "base_uri": "https://localhost:8080/"
        },
        "id": "zQyble2T6WKR",
        "outputId": "30a34e0d-98e5-4a38-94db-5839de03c5b8"
      },
      "execution_count": 20,
      "outputs": [
        {
          "output_type": "execute_result",
          "data": {
            "text/plain": [
              "3"
            ]
          },
          "metadata": {},
          "execution_count": 20
        }
      ]
    },
    {
      "cell_type": "code",
      "source": [
        "k.size()"
      ],
      "metadata": {
        "colab": {
          "base_uri": "https://localhost:8080/"
        },
        "id": "b46lcFZa6ZcM",
        "outputId": "cf0f1904-ff46-4e3b-9c42-1205e00f223b"
      },
      "execution_count": 21,
      "outputs": [
        {
          "output_type": "execute_result",
          "data": {
            "text/plain": [
              "torch.Size([3, 3, 2])"
            ]
          },
          "metadata": {},
          "execution_count": 21
        }
      ]
    },
    {
      "cell_type": "code",
      "source": [
        "tensordtyp = torch.tensor([1.0,2.0,3.0],dtype=torch.int16)"
      ],
      "metadata": {
        "id": "0OAnWdU66jST"
      },
      "execution_count": 22,
      "outputs": []
    },
    {
      "cell_type": "code",
      "source": [
        "tensordtyp"
      ],
      "metadata": {
        "colab": {
          "base_uri": "https://localhost:8080/"
        },
        "id": "cC-Q2TT5797v",
        "outputId": "adffc687-1102-42db-d85c-c65075e26bbd"
      },
      "execution_count": 23,
      "outputs": [
        {
          "output_type": "execute_result",
          "data": {
            "text/plain": [
              "tensor([1, 2, 3], dtype=torch.int16)"
            ]
          },
          "metadata": {},
          "execution_count": 23
        }
      ]
    },
    {
      "cell_type": "code",
      "source": [
        "tensordtyp = torch.tensor([1.0,2.0,3.0],requires_grad=True)"
      ],
      "metadata": {
        "id": "HSUXrJ_z8Hnj"
      },
      "execution_count": 24,
      "outputs": []
    },
    {
      "cell_type": "code",
      "source": [
        "tensordtyp = torch.tensor([1.0,2.0,3.0],requires_grad=True,device='cuda:0')"
      ],
      "metadata": {
        "id": "Grx6HtZ0-qIo"
      },
      "execution_count": 25,
      "outputs": []
    },
    {
      "cell_type": "code",
      "source": [
        "tensor1 = torch.rand((2,2))"
      ],
      "metadata": {
        "id": "_Qkz0uGC_MtV"
      },
      "execution_count": 26,
      "outputs": []
    },
    {
      "cell_type": "code",
      "source": [
        "tensor1 = tensor1.cuda()"
      ],
      "metadata": {
        "id": "HMKUARDP6ZL6"
      },
      "execution_count": 27,
      "outputs": []
    },
    {
      "cell_type": "code",
      "source": [
        "tensor2 = torch.rand((2,2))\n"
      ],
      "metadata": {
        "id": "uSz4s8Cz66cu"
      },
      "execution_count": 28,
      "outputs": []
    },
    {
      "cell_type": "code",
      "source": [
        "tensor1 + tensor2"
      ],
      "metadata": {
        "colab": {
          "base_uri": "https://localhost:8080/",
          "height": 144
        },
        "id": "YrbcU32D7CNf",
        "outputId": "94694c39-81c7-4ce4-98b5-338756a7639c"
      },
      "execution_count": 29,
      "outputs": [
        {
          "output_type": "error",
          "ename": "RuntimeError",
          "evalue": "Expected all tensors to be on the same device, but found at least two devices, cuda:0 and cpu!",
          "traceback": [
            "\u001b[0;31m---------------------------------------------------------------------------\u001b[0m",
            "\u001b[0;31mRuntimeError\u001b[0m                              Traceback (most recent call last)",
            "\u001b[0;32m<ipython-input-29-1dccf545ca40>\u001b[0m in \u001b[0;36m<cell line: 0>\u001b[0;34m()\u001b[0m\n\u001b[0;32m----> 1\u001b[0;31m \u001b[0mtensor1\u001b[0m \u001b[0;34m+\u001b[0m \u001b[0mtensor2\u001b[0m\u001b[0;34m\u001b[0m\u001b[0;34m\u001b[0m\u001b[0m\n\u001b[0m",
            "\u001b[0;31mRuntimeError\u001b[0m: Expected all tensors to be on the same device, but found at least two devices, cuda:0 and cpu!"
          ]
        }
      ]
    },
    {
      "cell_type": "code",
      "source": [
        "tensor2 = tensor2.cuda()"
      ],
      "metadata": {
        "id": "Fug-PvSG7F60"
      },
      "execution_count": 30,
      "outputs": []
    },
    {
      "cell_type": "code",
      "source": [
        "tensor1 + tensor2"
      ],
      "metadata": {
        "colab": {
          "base_uri": "https://localhost:8080/"
        },
        "id": "WgqLw8af7PPq",
        "outputId": "1410ec6a-ef4c-438f-b5c8-263693c4f83f"
      },
      "execution_count": 31,
      "outputs": [
        {
          "output_type": "execute_result",
          "data": {
            "text/plain": [
              "tensor([[0.7265, 1.1089],\n",
              "        [1.0887, 0.8599]], device='cuda:0')"
            ]
          },
          "metadata": {},
          "execution_count": 31
        }
      ]
    },
    {
      "cell_type": "code",
      "source": [
        "tensor1.cpu() + tensor2.cpu()"
      ],
      "metadata": {
        "id": "7pt8iJlQ7RyW"
      },
      "execution_count": null,
      "outputs": []
    },
    {
      "cell_type": "code",
      "source": [
        "torch.matmul(tensor2, tensor1)"
      ],
      "metadata": {
        "id": "t51NQn077hJz"
      },
      "execution_count": null,
      "outputs": []
    },
    {
      "cell_type": "code",
      "source": [
        "tensor5 = torch.rand((2,2))"
      ],
      "metadata": {
        "id": "KOUA54oa-E42"
      },
      "execution_count": null,
      "outputs": []
    },
    {
      "cell_type": "code",
      "source": [
        "tensor5 = tensor5.to(torch.int64)"
      ],
      "metadata": {
        "id": "0sYHfIIX-QG9"
      },
      "execution_count": null,
      "outputs": []
    },
    {
      "cell_type": "code",
      "source": [
        "torch.matmul(tensor2, tensor5.cuda())"
      ],
      "metadata": {
        "id": "azWkbkZN-Wn9"
      },
      "execution_count": null,
      "outputs": []
    },
    {
      "cell_type": "code",
      "source": [
        "print(tensor5.dtype)"
      ],
      "metadata": {
        "id": "yIiWhVu2-1U9"
      },
      "execution_count": null,
      "outputs": []
    },
    {
      "cell_type": "code",
      "source": [
        "import matplotlib.pyplot as plt\n",
        "from sklearn.model_selection import train_test_split"
      ],
      "metadata": {
        "id": "EHwrq0ua_GUL"
      },
      "execution_count": 35,
      "outputs": []
    },
    {
      "cell_type": "code",
      "source": [
        "x= torch.linspace(1,10,100).reshape(-1,1)"
      ],
      "metadata": {
        "id": "cIyMdS-6Cdvp"
      },
      "execution_count": 36,
      "outputs": []
    },
    {
      "cell_type": "code",
      "source": [
        "y= 2* x + 1 + torch.rand(x.size())"
      ],
      "metadata": {
        "id": "2vSkOe1KCrlK"
      },
      "execution_count": 37,
      "outputs": []
    },
    {
      "cell_type": "code",
      "source": [
        "x_train, x_test, y_train, y_test = train_test_split(x.numpy(),y.numpy(),test_size=0.2,random_state=25)"
      ],
      "metadata": {
        "id": "Nr5xxPNODIMz"
      },
      "execution_count": 38,
      "outputs": []
    },
    {
      "cell_type": "code",
      "source": [
        "x_train = torch.tensor(x_train, dtype=torch.float32)\n",
        "x_test = torch.tensor(x_test, dtype=torch.float32)\n",
        "y_train = torch.tensor(y_train, dtype=torch.float32)\n",
        "y_test = torch.tensor(y_test, dtype=torch.float32)"
      ],
      "metadata": {
        "id": "gUXSWQzSD5ip"
      },
      "execution_count": 39,
      "outputs": []
    },
    {
      "cell_type": "code",
      "source": [
        "plt.scatter(x_train.numpy(), y_train.numpy(), label='Training Data')\n",
        "plt.scatter(x_test.numpy(), y_test.numpy(), label='Test Data', color='red')\n",
        "plt.title('Toy Dataset')\n",
        "plt.xlabel('X')\n",
        "plt.ylabel('y')\n",
        "plt.legend()\n",
        "plt.show()"
      ],
      "metadata": {
        "colab": {
          "base_uri": "https://localhost:8080/",
          "height": 472
        },
        "id": "Pg6YTa2gD68Q",
        "outputId": "9055413e-3663-4ef0-b737-2c6896b89615"
      },
      "execution_count": 40,
      "outputs": [
        {
          "output_type": "display_data",
          "data": {
            "text/plain": [
              "<Figure size 640x480 with 1 Axes>"
            ],
            "image/png": "[encoded data removed]"
          },
          "metadata": {}
        }
      ]
    },
    {
      "cell_type": "code",
      "source": [
        "import torch.nn as nn\n",
        "class LRModel(nn.Module):  # A robot that knows how to learn a straight-line rule\n",
        "    def __init__(self, input_dim, output_dim):\n",
        "        super(LRModel, self).__init__()\n",
        "        self.linear = nn.Linear(input_dim, output_dim)  # Creates the \"straight-line rule\"\n",
        "\n",
        "    def forward(self, x):  # What the robot does when we give it some X\n",
        "        out = self.linear(x)\n",
        "        return out\n",
        "\n",
        "input_dim = 1  # X has one column\n",
        "output_dim = 1  # Y has one column\n",
        "lr_model = LRModel(input_dim, output_dim)  # Our robot model"
      ],
      "metadata": {
        "id": "u1LKY6FOuxpk"
      },
      "execution_count": 41,
      "outputs": []
    },
    {
      "cell_type": "code",
      "source": [
        "# Make predictions with the untrained model\n",
        "with torch.no_grad():\n",
        "    untrained_predictions = lr_model(x_test)"
      ],
      "metadata": {
        "id": "SI1kGDwrMvzV"
      },
      "execution_count": 42,
      "outputs": []
    },
    {
      "cell_type": "code",
      "source": [
        "untrained_predictions"
      ],
      "metadata": {
        "colab": {
          "base_uri": "https://localhost:8080/"
        },
        "id": "7wUMvwdQNOrb",
        "outputId": "053f73f0-20bc-456e-eb72-4834286faf82"
      },
      "execution_count": 43,
      "outputs": [
        {
          "output_type": "execute_result",
          "data": {
            "text/plain": [
              "tensor([[-3.2494],\n",
              "        [-2.5455],\n",
              "        [-2.7801],\n",
              "        [-4.6573],\n",
              "        [-5.1852],\n",
              "        [-1.1963],\n",
              "        [-4.1880],\n",
              "        [-6.0651],\n",
              "        [-5.9478],\n",
              "        [-6.5931],\n",
              "        [-0.8443],\n",
              "        [-4.5986],\n",
              "        [-5.5958],\n",
              "        [-5.0679],\n",
              "        [-4.7159],\n",
              "        [-6.1824],\n",
              "        [-6.4171],\n",
              "        [-4.5399],\n",
              "        [-4.3053],\n",
              "        [-3.5427]])"
            ]
          },
          "metadata": {},
          "execution_count": 43
        }
      ]
    },
    {
      "cell_type": "code",
      "source": [
        "plt.scatter(x_train.numpy(), y_train.numpy(), label='Training Data')\n",
        "plt.scatter(x_test.numpy(), y_test.numpy(), label='Test Data', color='red')\n",
        "plt.scatter(x_test.numpy(), untrained_predictions, label='Test Data', color='green')\n",
        "plt.title('Toy Dataset')\n",
        "plt.xlabel('X')\n",
        "plt.ylabel('y')\n",
        "plt.legend()\n",
        "plt.show()"
      ],
      "metadata": {
        "colab": {
          "base_uri": "https://localhost:8080/",
          "height": 472
        },
        "id": "KaCBAb4eNrIN",
        "outputId": "95d079c7-71f4-4a83-c1a5-b26c2346bacf"
      },
      "execution_count": 44,
      "outputs": [
        {
          "output_type": "display_data",
          "data": {
            "text/plain": [
              "<Figure size 640x480 with 1 Axes>"
            ],
            "image/png": "[encoded data removed]"
          },
          "metadata": {}
        }
      ]
    },
    {
      "cell_type": "code",
      "source": [
        "criterion = nn.MSELoss()"
      ],
      "metadata": {
        "id": "VK_4PO_eN9WA"
      },
      "execution_count": 45,
      "outputs": []
    },
    {
      "cell_type": "code",
      "source": [
        "loss = criterion(untrained_predictions,y_test)"
      ],
      "metadata": {
        "id": "yOFM7dHeQ4SS"
      },
      "execution_count": 46,
      "outputs": []
    },
    {
      "cell_type": "code",
      "source": [
        "loss"
      ],
      "metadata": {
        "colab": {
          "base_uri": "https://localhost:8080/"
        },
        "id": "45E3R0cYQ-z1",
        "outputId": "084d6d71-e3f1-45c9-82f6-4e375a9e3a89"
      },
      "execution_count": 47,
      "outputs": [
        {
          "output_type": "execute_result",
          "data": {
            "text/plain": [
              "tensor(401.7144)"
            ]
          },
          "metadata": {},
          "execution_count": 47
        }
      ]
    },
    {
      "cell_type": "code",
      "source": [],
      "metadata": {
        "id": "6xqCsYCyQ_-Z"
      },
      "execution_count": null,
      "outputs": []
    }
  ]
}