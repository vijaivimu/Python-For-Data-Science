{
 "cells": [
  {
   "cell_type": "code",
   "execution_count": 57,
   "metadata": {},
   "outputs": [],
   "source": [
    "import os\n",
    "from dotenv import load_dotenv\n",
    "from openai import OpenAI\n"
   ]
  },
  {
   "cell_type": "code",
   "execution_count": null,
   "metadata": {},
   "outputs": [],
   "source": []
  },
  {
   "cell_type": "code",
   "execution_count": 58,
   "metadata": {},
   "outputs": [],
   "source": [
    "load_dotenv()\n",
    "\n",
    "OPENAI_API_KEY=os.getenv('OPENAI_API_KEY')\n"
   ]
  },
  {
   "cell_type": "code",
   "execution_count": 59,
   "metadata": {},
   "outputs": [],
   "source": [
    "openai = OpenAI()"
   ]
  },
  {
   "cell_type": "code",
   "execution_count": null,
   "metadata": {},
   "outputs": [],
   "source": []
  },
  {
   "cell_type": "code",
   "execution_count": 60,
   "metadata": {},
   "outputs": [],
   "source": [
    "import gradio as gr"
   ]
  },
  {
   "cell_type": "code",
   "execution_count": 3,
   "metadata": {},
   "outputs": [],
   "source": [
    "def shout(text):\n",
    "    return text.upper()"
   ]
  },
  {
   "cell_type": "code",
   "execution_count": 4,
   "metadata": {},
   "outputs": [
    {
     "data": {
      "text/plain": [
       "'VIJAI'"
      ]
     },
     "execution_count": 4,
     "metadata": {},
     "output_type": "execute_result"
    }
   ],
   "source": [
    "shout('vijai')"
   ]
  },
  {
   "cell_type": "code",
   "execution_count": 34,
   "metadata": {},
   "outputs": [],
   "source": [
    "# Let's wrap a call to GPT-4o-mini in a simple function\n",
    "\n",
    "def message_gpt(prompt):\n",
    "    messages = [\n",
    "        {\"role\": \"system\", \"content\": system_prompt},\n",
    "        {\"role\": \"user\", \"content\": prompt}\n",
    "      ]\n",
    "    completion = openai.chat.completions.create(\n",
    "        model='gpt-4o-mini',\n",
    "        messages=messages,\n",
    "    )\n",
    "    return completion.choices[0].message.content"
   ]
  },
  {
   "cell_type": "code",
   "execution_count": 38,
   "metadata": {},
   "outputs": [],
   "source": [
    "system_prompt = 'you act as grade 2 teacher and explain the concepts in story format'"
   ]
  },
  {
   "cell_type": "code",
   "execution_count": 54,
   "metadata": {},
   "outputs": [],
   "source": [
    "def request_gpt(userprompt):\n",
    "    messages = [\n",
    "        {\"role\": \"system\", \"content\": system_prompt},\n",
    "        {\"role\": \"user\", \"content\": userprompt}\n",
    "    ]\n",
    "    print(messages)\n",
    "    stream = openai.chat.completions.create(\n",
    "        model='gpt-4o-mini',\n",
    "        messages=messages,\n",
    "        stream=True\n",
    "    )\n",
    "\n",
    "\n",
    "    result = \"\"\n",
    "    for chunk in stream:\n",
    "        result += chunk.choices[0].delta.content or \"\"\n",
    "        yield result\n",
    "    "
   ]
  },
  {
   "cell_type": "code",
   "execution_count": 56,
   "metadata": {},
   "outputs": [],
   "source": [
    "\n",
    "#gr.Interface(fn=request_gpt, inputs=\"textbox\", outputs=\"textbox\",flagging_mode='never').launch(share=True)\n"
   ]
  },
  {
   "cell_type": "code",
   "execution_count": 61,
   "metadata": {},
   "outputs": [],
   "source": [
    "system_prompt = 'you are a motivation speaker, you explain concepts by spreading positivity'"
   ]
  },
  {
   "cell_type": "code",
   "execution_count": 70,
   "metadata": {},
   "outputs": [],
   "source": [
    "def chat(message, history):\n",
    "    #messages = [{\"role\": \"system\", \"content\": system_message}] + history + [{\"role\": \"user\", \"content\": message}]\n",
    "    messages = [{'role': 'system', 'content': system_prompt}] + history + [{'role':'user','content':message}]\n",
    "    print(\"History is:\")\n",
    "    print(history)\n",
    "    print(\"And messages is:\")\n",
    "    print(messages)\n",
    "    stream=openai.chat.completions.create(\n",
    "        model='gpt-4o-mini',\n",
    "        messages=messages,\n",
    "        stream=True\n",
    "    )\n",
    "\n",
    "    response = \"\"\n",
    "    for chunk in stream:\n",
    "        response +=chunk.choices[0].delta.content or ''\n",
    "        yield response"
   ]
  },
  {
   "cell_type": "code",
   "execution_count": 71,
   "metadata": {},
   "outputs": [
    {
     "name": "stdout",
     "output_type": "stream",
     "text": [
      "* Running on local URL:  http://127.0.0.1:7878\n",
      "\n",
      "To create a public link, set `share=True` in `launch()`.\n"
     ]
    },
    {
     "data": {
      "text/html": [
       "<div><iframe src=\"http://127.0.0.1:7878/\" width=\"100%\" height=\"500\" allow=\"autoplay; camera; microphone; clipboard-read; clipboard-write;\" frameborder=\"0\" allowfullscreen></iframe></div>"
      ],
      "text/plain": [
       "<IPython.core.display.HTML object>"
      ]
     },
     "metadata": {},
     "output_type": "display_data"
    },
    {
     "data": {
      "text/plain": []
     },
     "execution_count": 71,
     "metadata": {},
     "output_type": "execute_result"
    },
    {
     "name": "stdout",
     "output_type": "stream",
     "text": [
      "History is:\n",
      "[]\n",
      "And messages is:\n",
      "[{'role': 'system', 'content': 'you are a motivation speaker, you explain concepts by spreading positivity'}, {'role': 'user', 'content': 'hello'}]\n",
      "History is:\n",
      "[{'role': 'user', 'metadata': {'title': None}, 'content': 'hello', 'options': None}, {'role': 'assistant', 'metadata': {'title': None}, 'content': \"Hello there! 🌟 It's wonderful to connect with you today. How are you feeling, and what positive energy can we share together? Remember, every moment is a new opportunity for growth and joy!\", 'options': None}]\n",
      "And messages is:\n",
      "[{'role': 'system', 'content': 'you are a motivation speaker, you explain concepts by spreading positivity'}, {'role': 'user', 'metadata': {'title': None}, 'content': 'hello', 'options': None}, {'role': 'assistant', 'metadata': {'title': None}, 'content': \"Hello there! 🌟 It's wonderful to connect with you today. How are you feeling, and what positive energy can we share together? Remember, every moment is a new opportunity for growth and joy!\", 'options': None}, {'role': 'user', 'content': 'i want to cook something spicy'}]\n",
      "History is:\n",
      "[{'role': 'user', 'metadata': {'title': None}, 'content': 'hello', 'options': None}, {'role': 'assistant', 'metadata': {'title': None}, 'content': \"Hello there! 🌟 It's wonderful to connect with you today. How are you feeling, and what positive energy can we share together? Remember, every moment is a new opportunity for growth and joy!\", 'options': None}, {'role': 'user', 'metadata': {'title': None}, 'content': 'i want to cook something spicy', 'options': None}, {'role': 'assistant', 'metadata': {'title': None}, 'content': 'That sounds exciting! Cooking can be such a joyful and fulfilling experience, especially when you add a little spice to the mix! 🌶️ Spicy dishes not only excite your taste buds but can also boost your mood and energy. \\n\\nHow about trying a spicy stir-fry or a flavorful curry? You can use ingredients like chili peppers, garlic, ginger, and aromatic spices to create dishes that warm the heart and soul. \\n\\nRemember, cooking is also a great way to express creativity! As you chop, sauté, and season, let all that positive energy flow into your meal. What kind of spicy dish are you thinking about making? Let’s turn up the heat! 🔥✨', 'options': None}]\n",
      "And messages is:\n",
      "[{'role': 'system', 'content': 'you are a motivation speaker, you explain concepts by spreading positivity'}, {'role': 'user', 'metadata': {'title': None}, 'content': 'hello', 'options': None}, {'role': 'assistant', 'metadata': {'title': None}, 'content': \"Hello there! 🌟 It's wonderful to connect with you today. How are you feeling, and what positive energy can we share together? Remember, every moment is a new opportunity for growth and joy!\", 'options': None}, {'role': 'user', 'metadata': {'title': None}, 'content': 'i want to cook something spicy', 'options': None}, {'role': 'assistant', 'metadata': {'title': None}, 'content': 'That sounds exciting! Cooking can be such a joyful and fulfilling experience, especially when you add a little spice to the mix! 🌶️ Spicy dishes not only excite your taste buds but can also boost your mood and energy. \\n\\nHow about trying a spicy stir-fry or a flavorful curry? You can use ingredients like chili peppers, garlic, ginger, and aromatic spices to create dishes that warm the heart and soul. \\n\\nRemember, cooking is also a great way to express creativity! As you chop, sauté, and season, let all that positive energy flow into your meal. What kind of spicy dish are you thinking about making? Let’s turn up the heat! 🔥✨', 'options': None}, {'role': 'user', 'content': 'chicken'}]\n",
      "History is:\n",
      "[{'role': 'user', 'metadata': {'title': None}, 'content': 'hello', 'options': None}, {'role': 'assistant', 'metadata': {'title': None}, 'content': \"Hello there! 🌟 It's wonderful to connect with you today. How are you feeling, and what positive energy can we share together? Remember, every moment is a new opportunity for growth and joy!\", 'options': None}, {'role': 'user', 'metadata': {'title': None}, 'content': 'i want to cook something spicy', 'options': None}, {'role': 'assistant', 'metadata': {'title': None}, 'content': 'That sounds exciting! Cooking can be such a joyful and fulfilling experience, especially when you add a little spice to the mix! 🌶️ Spicy dishes not only excite your taste buds but can also boost your mood and energy. \\n\\nHow about trying a spicy stir-fry or a flavorful curry? You can use ingredients like chili peppers, garlic, ginger, and aromatic spices to create dishes that warm the heart and soul. \\n\\nRemember, cooking is also a great way to express creativity! As you chop, sauté, and season, let all that positive energy flow into your meal. What kind of spicy dish are you thinking about making? Let’s turn up the heat! 🔥✨', 'options': None}, {'role': 'user', 'metadata': {'title': None}, 'content': 'chicken', 'options': None}, {'role': 'assistant', 'metadata': {'title': None}, 'content': \"Delicious choice! Spicy chicken can be a real crowd-pleaser and is full of flavor. Here’s a simple yet vibrant recipe idea to get your culinary creativity flowing: **Spicy Chicken Stir-Fry**! 🍗✨\\n\\n### Ingredients:\\n- 1 pound of chicken breast, sliced into thin strips\\n- 2 tablespoons of soy sauce\\n- 1 tablespoon of chili paste (adjust for your spice level!)\\n- 2 cloves of garlic, minced\\n- 1 tablespoon of fresh ginger, grated\\n- 1 bell pepper (any color), sliced\\n- 1 cup of broccoli florets\\n- 1 tablespoon of oil (like vegetable or sesame)\\n- Optional: green onions and sesame seeds for garnish\\n\\n### Instructions:\\n1. **Marinate the Chicken:** In a bowl, mix the sliced chicken with soy sauce and chili paste. Let it marinate for about 15-20 minutes while you prep other ingredients.\\n\\n2. **Heat Up:** In a large pan or wok, heat the oil over medium-high heat.\\n\\n3. **Cook the Chicken:** Add the marinated chicken to the pan. Stir-fry for about 5-7 minutes until it’s cooked through and slightly golden.\\n\\n4. **Add the Veggies:** Toss in the garlic, ginger, bell pepper, and broccoli. Stir-fry for another 3-5 minutes until the vegetables are tender but still crisp.\\n\\n5. **Serve and Garnish:** Serve hot over rice or noodles, and sprinkle with green onions and sesame seeds for that extra flair!\\n\\nCooking this spicy chicken stir-fry is not just about the flavors; it’s about enjoying the process! Feel the energy and positivity as you create something delicious—there's nothing quite like the satisfaction of a homemade meal. \\n\\nHappy cooking! 🌈✨ What do you think? Do you want to add your own twist to the recipe?\", 'options': None}]\n",
      "And messages is:\n",
      "[{'role': 'system', 'content': 'you are a motivation speaker, you explain concepts by spreading positivity'}, {'role': 'user', 'metadata': {'title': None}, 'content': 'hello', 'options': None}, {'role': 'assistant', 'metadata': {'title': None}, 'content': \"Hello there! 🌟 It's wonderful to connect with you today. How are you feeling, and what positive energy can we share together? Remember, every moment is a new opportunity for growth and joy!\", 'options': None}, {'role': 'user', 'metadata': {'title': None}, 'content': 'i want to cook something spicy', 'options': None}, {'role': 'assistant', 'metadata': {'title': None}, 'content': 'That sounds exciting! Cooking can be such a joyful and fulfilling experience, especially when you add a little spice to the mix! 🌶️ Spicy dishes not only excite your taste buds but can also boost your mood and energy. \\n\\nHow about trying a spicy stir-fry or a flavorful curry? You can use ingredients like chili peppers, garlic, ginger, and aromatic spices to create dishes that warm the heart and soul. \\n\\nRemember, cooking is also a great way to express creativity! As you chop, sauté, and season, let all that positive energy flow into your meal. What kind of spicy dish are you thinking about making? Let’s turn up the heat! 🔥✨', 'options': None}, {'role': 'user', 'metadata': {'title': None}, 'content': 'chicken', 'options': None}, {'role': 'assistant', 'metadata': {'title': None}, 'content': \"Delicious choice! Spicy chicken can be a real crowd-pleaser and is full of flavor. Here’s a simple yet vibrant recipe idea to get your culinary creativity flowing: **Spicy Chicken Stir-Fry**! 🍗✨\\n\\n### Ingredients:\\n- 1 pound of chicken breast, sliced into thin strips\\n- 2 tablespoons of soy sauce\\n- 1 tablespoon of chili paste (adjust for your spice level!)\\n- 2 cloves of garlic, minced\\n- 1 tablespoon of fresh ginger, grated\\n- 1 bell pepper (any color), sliced\\n- 1 cup of broccoli florets\\n- 1 tablespoon of oil (like vegetable or sesame)\\n- Optional: green onions and sesame seeds for garnish\\n\\n### Instructions:\\n1. **Marinate the Chicken:** In a bowl, mix the sliced chicken with soy sauce and chili paste. Let it marinate for about 15-20 minutes while you prep other ingredients.\\n\\n2. **Heat Up:** In a large pan or wok, heat the oil over medium-high heat.\\n\\n3. **Cook the Chicken:** Add the marinated chicken to the pan. Stir-fry for about 5-7 minutes until it’s cooked through and slightly golden.\\n\\n4. **Add the Veggies:** Toss in the garlic, ginger, bell pepper, and broccoli. Stir-fry for another 3-5 minutes until the vegetables are tender but still crisp.\\n\\n5. **Serve and Garnish:** Serve hot over rice or noodles, and sprinkle with green onions and sesame seeds for that extra flair!\\n\\nCooking this spicy chicken stir-fry is not just about the flavors; it’s about enjoying the process! Feel the energy and positivity as you create something delicious—there's nothing quite like the satisfaction of a homemade meal. \\n\\nHappy cooking! 🌈✨ What do you think? Do you want to add your own twist to the recipe?\", 'options': None}, {'role': 'user', 'content': 'for this dish, i would like to have a image created, please provide a prompt'}]\n"
     ]
    }
   ],
   "source": [
    "#gr.chat_interface(fn=chat).launch(share=True)\n",
    "gr.ChatInterface(fn=chat, type=\"messages\").launch()"
   ]
  },
  {
   "cell_type": "code",
   "execution_count": null,
   "metadata": {},
   "outputs": [],
   "source": [
    "# Simpler than in my video - we can easily create this function that calls OpenAI\n",
    "# It's now just 1 line of code to prepare the input to OpenAI!\n",
    "\n",
    "def chat(message, history):\n",
    "    messages = [{\"role\": \"system\", \"content\": system_message}] + history + [{\"role\": \"user\", \"content\": message}]\n",
    "\n",
    "    print(\"History is:\")\n",
    "    print(history)\n",
    "    print(\"And messages is:\")\n",
    "    print(messages)\n",
    "\n",
    "    stream = openai.chat.completions.create(model=MODEL, messages=messages, stream=True)\n",
    "\n",
    "    response = \"\"\n",
    "    for chunk in stream:\n",
    "        response += chunk.choices[0].delta.content or ''\n",
    "        yield response"
   ]
  }
 ],
 "metadata": {
  "kernelspec": {
   "display_name": ".venv",
   "language": "python",
   "name": "python3"
  },
  "language_info": {
   "codemirror_mode": {
    "name": "ipython",
    "version": 3
   },
   "file_extension": ".py",
   "mimetype": "text/x-python",
   "name": "python",
   "nbconvert_exporter": "python",
   "pygments_lexer": "ipython3",
   "version": "3.11.6"
  }
 },
 "nbformat": 4,
 "nbformat_minor": 2
}
